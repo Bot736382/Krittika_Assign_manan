{
 "cells": [
  {
   "cell_type": "code",
   "execution_count": 1,
   "id": "8c0519ff",
   "metadata": {
    "scrolled": true
   },
   "outputs": [
    {
     "name": "stdout",
     "output_type": "stream",
     "text": [
      "Requirement already satisfied: requests in c:\\users\\divit\\anaconda3\\lib\\site-packages (2.25.1)\n",
      "Requirement already satisfied: certifi>=2017.4.17 in c:\\users\\divit\\anaconda3\\lib\\site-packages (from requests) (2020.12.5)\n",
      "Requirement already satisfied: chardet<5,>=3.0.2 in c:\\users\\divit\\anaconda3\\lib\\site-packages (from requests) (4.0.0)\n",
      "Requirement already satisfied: idna<3,>=2.5 in c:\\users\\divit\\anaconda3\\lib\\site-packages (from requests) (2.10)\n",
      "Requirement already satisfied: urllib3<1.27,>=1.21.1 in c:\\users\\divit\\anaconda3\\lib\\site-packages (from requests) (1.26.4)\n",
      "Requirement already satisfied: beautifulsoup4 in c:\\users\\divit\\anaconda3\\lib\\site-packages (4.9.3)\n",
      "Requirement already satisfied: soupsieve>1.2 in c:\\users\\divit\\anaconda3\\lib\\site-packages (from beautifulsoup4) (2.2.1)\n"
     ]
    }
   ],
   "source": [
    "!pip install requests\n",
    "!pip install beautifulsoup4"
   ]
  },
  {
   "cell_type": "code",
   "execution_count": 5,
   "id": "383d4dcf",
   "metadata": {},
   "outputs": [
    {
     "name": "stdout",
     "output_type": "stream",
     "text": [
      "46 team member(s) details saved to krittika_team.csv.\n"
     ]
    }
   ],
   "source": [
    "#Final \n",
    "\n",
    "import requests\n",
    "from bs4 import BeautifulSoup\n",
    "import csv\n",
    "#\n",
    "# Make a request to the website\n",
    "url = 'https://krittikaiitb.github.io/team/'\n",
    "response = requests.get(url)\n",
    "\n",
    "# Parse the HTML content using Beautiful Soup\n",
    "soup = BeautifulSoup(response.content, 'html.parser')\n",
    "\n",
    "# Find all the years for which the team details are available\n",
    "useful_content = soup.find_all('div', {'class': 'tab-content'})\n",
    "# print((useful_content))\n",
    "# print(len(useful_content))\n",
    "\n",
    "# Create a list to hold the details of all team members\n",
    "team_members = []\n",
    "firstResult=useful_content[0]\n",
    "a=firstResult.contents\n",
    "\n",
    "# Loop through each year and extract the details of all team members\n",
    "for year in a:\n",
    "    # Get the year value from the card header\n",
    "    year_value = year.find('p',{ 'class':'display-4 pt-4 pb-4 text-center'})\n",
    "    # <div class=\"card-body text-center\"><h5 class=\"card-title mb-0\">Advait Mehla</h5><p class=\"card-text\">Manager</p></div\n",
    "    # Find all the team member cards for the current year\n",
    "    team_member_cards = year.find_all('div',{'class':'col-md-4 mb-4'})\n",
    "    # Loop through each team member card and extract the details\n",
    "    \n",
    "    for team_member_card in team_member_cards:\n",
    "        # Get the name and designation of the team member\n",
    "        \n",
    "        name = team_member_card.find('h5', {'class': 'card-title mb-0'}).text.strip()\n",
    "        designation = team_member_card.find('p', {'class': 'card-text'}).text.strip()\n",
    "#         \"print (name)\n",
    "        \n",
    "        # Add the team member details to the list\n",
    "        team_members.append([name, designation, year_value.text.strip()])\n",
    "\n",
    "# Save the team member details to a CSV file\n",
    "with open('krittika_team_11mayV4.csv', mode='w', newline='') as csv_file:\n",
    "    writer = csv.writer(csv_file)\n",
    "    writer.writerow(['name', 'designation', 'year'])\n",
    "    writer.writerows(team_members)\n",
    "\n",
    "# Print the number of team members extracted\n",
    "print(f\"{len(team_members)} team member(s) details saved to krittika_team.csv.\")\n",
    "# print (year)\n",
    "# print(team_member_cards[0])\n",
    "# len(team_member_cards)"
   ]
  },
  {
   "cell_type": "code",
   "execution_count": null,
   "id": "7e6909c5",
   "metadata": {},
   "outputs": [],
   "source": []
  }
 ],
 "metadata": {
  "kernelspec": {
   "display_name": "Python 3",
   "language": "python",
   "name": "python3"
  },
  "language_info": {
   "codemirror_mode": {
    "name": "ipython",
    "version": 3
   },
   "file_extension": ".py",
   "mimetype": "text/x-python",
   "name": "python",
   "nbconvert_exporter": "python",
   "pygments_lexer": "ipython3",
   "version": "3.8.8"
  }
 },
 "nbformat": 4,
 "nbformat_minor": 5
}
